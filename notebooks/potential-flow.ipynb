{
 "cells": [
  {
   "cell_type": "code",
   "execution_count": null,
   "id": "cce276a0",
   "metadata": {},
   "outputs": [],
   "source": []
  },
  {
   "cell_type": "markdown",
   "id": "d45ed170",
   "metadata": {},
   "source": [
    "# Potential Flow\n",
    "\n",
    "In one of my first courses as an aeronautical engineering course, i was introduced to the mathematics behind the study of how airplanes fly. The textbook for this course was *Theoretical Hydrodynamics* by Milne-Thompson, still one of my prized possessions!\n",
    "\n",
    "In this note, We will explore the equations that demonstrated some of the foundations of flight. In this study, we will use Python **sympy** and **numpy** to handle the math, and **matplotlib** to do some graphics work."
   ]
  },
  {
   "cell_type": "markdown",
   "id": "72254fdb",
   "metadata": {},
   "source": [
    "## Basic Vectors\n",
    "\n",
    "From your high school geometry class, you should be familiar with the basic three-dimensions we typically call **x**, **y** and **z**. These three names refer to *coordinates* in space. the guy who thought up this idea was Rene Descartes. The sory goes that he was lying in his bedroom watching a [fly on the ceiling](https://wild.maths.org/ren%C3%A9-descartes-and-fly-ceiling) and thought up a way to specify where that fly was located at any moment in time. The would simply measure the distance the fly was from the corner of his room along three mutually perpendicular lines that traces the walls and ceiling of his room. Today, we call this system the *cartesian coodinate system*!"
   ]
  },
  {
   "cell_type": "code",
   "execution_count": 4,
   "id": "75cc85c7",
   "metadata": {},
   "outputs": [],
   "source": [
    "%reload_ext tikzmagic"
   ]
  },
  {
   "cell_type": "code",
   "execution_count": 5,
   "id": "999494df",
   "metadata": {},
   "outputs": [
    {
     "data": {
      "image/png": "[encoded data removed]"
     },
     "metadata": {},
     "output_type": "display_data"
    }
   ],
   "source": [
    "\n",
    "%%tikz\n",
    "\\draw (0,0) -- (2,1);"
   ]
  },
  {
   "cell_type": "code",
   "execution_count": null,
   "id": "0eb305aa",
   "metadata": {},
   "outputs": [],
   "source": []
  }
 ],
 "metadata": {
  "kernelspec": {
   "display_name": "Python 3 (ipykernel)",
   "language": "python",
   "name": "python3"
  },
  "language_info": {
   "codemirror_mode": {
    "name": "ipython",
    "version": 3
   },
   "file_extension": ".py",
   "mimetype": "text/x-python",
   "name": "python",
   "nbconvert_exporter": "python",
   "pygments_lexer": "ipython3",
   "version": "3.9.7"
  }
 },
 "nbformat": 4,
 "nbformat_minor": 5
}
