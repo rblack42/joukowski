{
 "cells": [
  {
   "cell_type": "code",
   "execution_count": null,
   "id": "cce276a0",
   "metadata": {},
   "outputs": [],
   "source": []
  },
  {
   "cell_type": "markdown",
   "id": "d45ed170",
   "metadata": {},
   "source": [
    "# Potential Flow\n",
    "\n",
    "In one of my first courses as an aeronautical engineering course, i was introduced to the mathematics behind the study of how airplanes fly. The textbook for this course was *Theoretical Hydrodynamics* by Milne-Thompson, still one of my prized possessions!\n",
    "\n",
    "In this note, We will explore the equations that demonstrated some of the foundations of flight. In this study, we will use Python **sympy** and **numpy** to handle the math, and **matplotlib** to do some graphics work."
   ]
  },
  {
   "cell_type": "markdown",
   "id": "72254fdb",
   "metadata": {},
   "source": [
    "## Basic Vectors\n",
    "\n",
    "From your high school geometry class, you should be familiar with the basic three-dimensions we typically call **x**, **y** and **z**. These three names refer to *coordinates* in space. the guy who thought up this idea was Rene Descartes. The story goes that he was lying in his bedroom watching a [fly on the ceiling](https://wild.maths.org/ren%C3%A9-descartes-and-fly-ceiling) and thought up a way to specify where that fly was located at any moment in time. The would simply measure the distance the fly was from the corner of his room along three mutually perpendicular lines that traces the walls and ceiling of his room. Today, we call this system the *cartesian coodinate system*!"
   ]
  },
  {
   "cell_type": "code",
   "execution_count": 4,
   "id": "75cc85c7",
   "metadata": {},
   "outputs": [],
   "source": [
    "%reload_ext tikzmagic"
   ]
  },
  {
   "cell_type": "code",
   "execution_count": 30,
   "id": "999494df",
   "metadata": {},
   "outputs": [
    {
     "data": {
      "image/png": "[encoded data removed]"
     },
     "metadata": {},
     "output_type": "display_data"
    }
   ],
   "source": [
    "\n",
    "%%tikz\n",
    "\\node[left] at (0,0) {o};\n",
    "\\node[left] (y) at (0,3) {Y};\n",
    "\\draw[->](0,0) -- (0,3);\n",
    "\\node[right] (x) at (3,0) {X};\n",
    "\\draw[->] (0,0) -- (3,0);\n",
    "\\coordinate (z) at (-1,-2);\n",
    "\\draw[->] (0,0) -- (-1,-2) (z);\n",
    "\\node[left] (p1) at (z) {Z};\n",
    "\n",
    "\\draw[dashed] (0,2) -- node[above] {a} (2,2) -- node[right] {c} ++(-0.5,-1) node[left]  {p};\n",
    "\\filldraw (1.5,1) circle (3pt);\n",
    "\\draw (0,0) -- node[left] {b} (0,2);"
   ]
  },
  {
   "cell_type": "markdown",
   "id": "7204b8e0",
   "metadata": {},
   "source": [
    "The origin od this system is labeled **o** and the arrows are drawn along the *coordinate axes*. Two such axes define a *plane*. We will be focusing on things sitting on the **X_Y** plane in this discussion.\n",
    "\n",
    "We can define a position in this coordinate system using three numbers, representing the distance alone each axis. In the diagram above point **p** is at **(a,b,c)**.\n"
   ]
  },
  {
   "cell_type": "code",
   "execution_count": null,
   "id": "70c806fe",
   "metadata": {},
   "outputs": [],
   "source": []
  }
 ],
 "metadata": {
  "kernelspec": {
   "display_name": "Python 3 (ipykernel)",
   "language": "python",
   "name": "python3"
  },
  "language_info": {
   "codemirror_mode": {
    "name": "ipython",
    "version": 3
   },
   "file_extension": ".py",
   "mimetype": "text/x-python",
   "name": "python",
   "nbconvert_exporter": "python",
   "pygments_lexer": "ipython3",
   "version": "3.9.7"
  }
 },
 "nbformat": 4,
 "nbformat_minor": 5
}
