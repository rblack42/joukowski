{
 "cells": [
  {
   "cell_type": "markdown",
   "id": "2e6a38a1",
   "metadata": {},
   "source": [
    "# Joukowski Airfoils"
   ]
  },
  {
   "cell_type": "markdown",
   "id": "d45ed170",
   "metadata": {},
   "source": [
    "# Potential Flow\n",
    "\n",
    "In one of my first courses in aeronautical engineering, I was introduced to the mathematics behind the study of how airplanes fly. The textbook for this course was *Theoretical Hydrodynamics* by Milne-Thompson, still one of my prized possessions! Back then, computers were restricted to theose special folks who could actual touch beasts like the IBM 360 mainframe machine that powered my school, so any calculations needed in this course had to be done by hand, using a slide rule (Google that if you never saw one!)\n",
    "\n",
    "Since we all seem to have access to computers today, and since I have retired and have the time, I decided to revisit this course and see what we can do today. In this note, We will explore the equations from that course that demonstrated the foundations of flight. In this study, we will use Python **sympy** and **numpy** to handle the math, and **matplotlib** to do some graphics work.\n",
    "\n",
    "First, a little background is needed."
   ]
  },
  {
   "cell_type": "markdown",
   "id": "72254fdb",
   "metadata": {},
   "source": [
    "## Basic Vectors\n",
    "\n",
    "From your high school geometry class, you should be familiar with the basic three-dimensions we typically call **x**, **y** and **z**. These three names refer to *coordinates* in space. the guy who thought up this idea was Rene Descartes. The story goes that he was lying in his bedroom watching a [fly on the ceiling](https://wild.maths.org/ren%C3%A9-descartes-and-fly-ceiling) and thought up a way to specify where that fly was located at any moment in time. The would simply measure the distance the fly was from the corner of his room along three mutually perpendicular lines that traces the walls and ceiling of his room. Today, we call this system the *cartesian coodinate system*!"
   ]
  },
  {
   "cell_type": "code",
   "execution_count": 3,
   "id": "a532e43d",
   "metadata": {},
   "outputs": [],
   "source": [
    "%reload_ext tikzmagic"
   ]
  },
  {
   "cell_type": "code",
   "execution_count": 6,
   "id": "999494df",
   "metadata": {},
   "outputs": [
    {
     "data": {
      "image/png": "[encoded data removed]"
     },
     "metadata": {},
     "output_type": "display_data"
    }
   ],
   "source": [
    "%%tikz\n",
    "\\node[left] at (0,0) {o};\n",
    "\\node[left] (y) at (0,3) {Y};\n",
    "\\draw[->](0,0) -- (0,3);\n",
    "\\node[right] (x) at (3,0) {X};\n",
    "\\draw[->] (0,0) -- (3,0);\n",
    "\\coordinate (z) at (-1,-2);\n",
    "\\draw[->] (0,0) -- (-1,-2) (z);\n",
    "\\node[left] (p1) at (z) {Z};\n",
    "\n",
    "\\draw[dashed] (0,2) -- node[above] {a} (2,2) -- node[right] {c} ++(-0.5,-1) node[left]  {p};\n",
    "\\filldraw (1.5,1) circle (3pt);\n",
    "\\draw (0,0) -- node[left] {b} (0,2);"
   ]
  },
  {
   "cell_type": "markdown",
   "id": "7204b8e0",
   "metadata": {},
   "source": [
    "The origin of this system is labeled **o** and the arrows are drawn along the *coordinate axes*. Two such axes define a *plane*. We will be focusing on things sitting on the **X-Y** plane in this discussion.\n",
    "\n",
    "We can define a position in this coordinate system using three numbers, representing the distance alone each axis. In the diagram above point **p** is at **(a,b,c)**.\n"
   ]
  },
  {
   "cell_type": "markdown",
   "id": "d33331ba",
   "metadata": {},
   "source": [
    "A *vector* is a quantity that describes something that has two components: magnidtude and direction. A simple example is velocity. Just stating that something is moving at some speed is not very helpful in figuring out where it is going. If we add a direction to that speed, we get something useful. We show a vector in our coordinate system using an arrow whose length indicates the magnitude (speed, for instance) and orientation indicates the direction.\n",
    "\n",
    "If we combine position and velocity, we have something veryuseful in studying the motion of something. Let's restrict our movements to the **X-Y** plane and show an example:"
   ]
  },
  {
   "cell_type": "code",
   "execution_count": 13,
   "id": "b2d20f3f",
   "metadata": {},
   "outputs": [
    {
     "data": {
      "image/png": "[encoded data removed]"
     },
     "metadata": {},
     "output_type": "display_data"
    }
   ],
   "source": [
    "%%tikz\n",
    "\\node[left] at (0,0) {o};\n",
    "\\node[left] (y) at (0,3) {Y};\n",
    "\\draw[->](0,0) -- (0,3);\n",
    "\\node[right] (x) at (3,0) {X};\n",
    "\\draw[->] (0,0) -- (3,0);\n",
    "\n",
    "\\node[left] (p) at (1.5,1) {p};\n",
    "\\filldraw (1.5,1) circle (3pt);\n",
    "\\draw[thick,->] (1.5,1) -- (3,3);"
   ]
  },
  {
   "cell_type": "markdown",
   "id": "1a94d6ea",
   "metadata": {},
   "source": [
    "Looking at this diagram, we get some idea where the object **p** will be moving."
   ]
  },
  {
   "cell_type": "markdown",
   "id": "3b21a3f8",
   "metadata": {},
   "source": [
    "## Unit Vectors\n",
    "\n",
    "When working with vectors it is common to introduce the idea of a *unit vector*, which has direction, but the magnitude is one. We typically use unit vectors aligned with the coordinate axes, named **i**, **j**, (and **k** for 3D vectors). We use a \"hat\" character over these names to indicate that they are unit vectors. \n",
    "\n",
    "With this notation, we can define a 2D vector using component constants in each coordinate direction:\n",
    "    \n",
    "$$\n",
    "\\overrightarrow{V} = v_x \\hat{\\textbf{i}} + v_y \\hat{\\textbf{j}}\n",
    "$$"
   ]
  },
  {
   "cell_type": "code",
   "execution_count": 12,
   "id": "33f748ef",
   "metadata": {},
   "outputs": [
    {
     "data": {
      "image/png": "[encoded data removed]"
     },
     "metadata": {},
     "output_type": "display_data"
    }
   ],
   "source": [
    "%%tikz\n",
    "\\node[left] at (0,0) {o};\n",
    "\\node[left] (y) at (0,3) {Y};\n",
    "\\draw[->](0,0) -- (0,3);\n",
    "\\node[right] (x) at (3,0) {X};\n",
    "\\draw[->] (0,0) -- (3,0);\n",
    "\n",
    "\\node[left] (p) at (1.5,1) {p};\n",
    "\\filldraw (1.5,1) circle (3pt);\n",
    "\\draw[thick,->] (1.5,1) -- (3,3);\n",
    "\n",
    "\\draw[dashed] (1.5,1)-- node[below] {vx} (3,1);\n",
    "\\draw[dashed] (3,1) -- node[right] {vy} (3,3);"
   ]
  },
  {
   "cell_type": "markdown",
   "id": "1b1778d6",
   "metadata": {},
   "source": [
    "## Vector Arithmetic\n",
    "\n",
    "Adding two vectors is pretty simple:\n",
    "    \n",
    "$$\n",
    "\\overrightarrow{V_1} = a_1 \\hat{\\textbf{i}} + b_1 \\hat{\\textbf{j}}\n",
    "$$\n",
    "\n",
    "$$\n",
    "\\overrightarrow{V_2} = a_2 \\hat{\\textbf{i}} + b_2 \\hat{\\textbf{j}}\n",
    "$$\n",
    "\n",
    "$$\n",
    "\\overrightarrow{V_1} + \\overrightarrow{V_2} = (a_1 + a_2) \\hat{\\textbf{i}} + (b_1 + b_2) \\hat{\\textbf{j}}\n",
    "$$\n",
    "\n",
    "This makes sence if you think about movements. If you walk across a moving platform, your actual motion, viewed from the ground, is a combination of both movements. Graphically, it looks like this:"
   ]
  },
  {
   "cell_type": "code",
   "execution_count": 18,
   "id": "f40edcb5",
   "metadata": {},
   "outputs": [
    {
     "data": {
      "image/png": "[encoded data removed]"
     },
     "metadata": {},
     "output_type": "display_data"
    }
   ],
   "source": [
    "%%tikz\n",
    "\\node[left] at (0,0) {o};\n",
    "\\node[left] (y) at (0,3) {Y};\n",
    "\\draw[->](0,0) -- (0,3);\n",
    "\\node[right] (x) at (3,0) {X};\n",
    "\\draw[->] (0,0) -- (3,0);\n",
    "\n",
    "\n",
    "\\node[left] (p) at (1.5,1) {p};\n",
    "\\filldraw (1.5,1) circle (3pt);\n",
    "\\draw[thick,->] (1.5,1) -- node[left] {V1}(3,3);\n",
    "\\draw[thick,->] (3,3) -- node[above] {V2} (4,2);\n",
    "\\draw[thick,->] (1.5,1) -- (4,2);"
   ]
  },
  {
   "cell_type": "markdown",
   "id": "9e04e60f",
   "metadata": {},
   "source": [
    "## Vector Functions\n",
    "\n",
    "Suppose we create a mathematical function that defines a velocity vector at any point in the **X-Y** plane:\n",
    "   \n",
    "$$\n",
    "\\overrightarrow{V} = f(x,y)\n",
    "$$"
   ]
  },
  {
   "cell_type": "markdown",
   "id": "8451e9a1",
   "metadata": {},
   "source": [
    "That arrow over the **V** indicates that this is a vector quantity.\n",
    "\n",
    "Now, let's set up a series of particles along the **Y** axis and let $F(x,y)$ show us the velocity vector of each particle. For now, let's just assume that the velocity at each point is given by:\n",
    "\n",
    "$$\n",
    "\\overrightarrow{V_p} = U_\\infty \\hat{\\textbf{i}}\n",
    "$$\n",
    "\n",
    "Which means the particle is headed to the right in our coordinate system."
   ]
  },
  {
   "cell_type": "code",
   "execution_count": 35,
   "id": "c7542168",
   "metadata": {},
   "outputs": [
    {
     "data": {
      "image/png": "[encoded data removed]"
     },
     "metadata": {},
     "output_type": "display_data"
    }
   ],
   "source": [
    "%%tikz\n",
    "\\node[left] at (0,0) {o};\n",
    "\\node[left] (y) at (0,3) {Y};\n",
    "\\draw[->](0,0) -- (0,3);\n",
    "\\node[right] (x) at (3,0) {X};\n",
    "\\draw[->] (0,0) -- (3,0);\n",
    "\n",
    "\\foreach \\x in {0,0.5,1,1.5,2}\n",
    "    \\filldraw (0,\\x) circle (3pt);\n",
    "\\foreach \\x in {0,0.5,1,1.5,2}\n",
    "    \\draw[thick,->] (0,\\x) -- (1,\\x);\n",
    "\\node[above] at (0.5,2) {$U_\\infty$};"
   ]
  },
  {
   "cell_type": "markdown",
   "id": "b189e5f9",
   "metadata": {},
   "source": [
    "If we ignore the effects of any other force, including gravity, you can probably figure out where those particles will go over some period of time:\n"
   ]
  }
 ],
 "metadata": {
  "kernelspec": {
   "display_name": "Python 3 (ipykernel)",
   "language": "python",
   "name": "python3"
  },
  "language_info": {
   "codemirror_mode": {
    "name": "ipython",
    "version": 3
   },
   "file_extension": ".py",
   "mimetype": "text/x-python",
   "name": "python",
   "nbconvert_exporter": "python",
   "pygments_lexer": "ipython3",
   "version": "3.9.7"
  }
 },
 "nbformat": 4,
 "nbformat_minor": 5
}
